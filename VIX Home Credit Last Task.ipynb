{
 "cells": [
  {
   "cell_type": "markdown",
   "id": "e4bb86a6",
   "metadata": {},
   "source": [
    "Pengelolaan data Installment "
   ]
  },
  {
   "cell_type": "code",
   "execution_count": 1,
   "id": "3bba2bae",
   "metadata": {},
   "outputs": [],
   "source": [
    "import pandas as pd\n",
    "from sklearn.decomposition import PCA\n",
    "from sklearn.ensemble import RandomForestClassifier\n",
    "from sklearn.preprocessing import StandardScaler\n",
    "from sklearn.feature_selection import SelectKBest, chi2, f_classif\n",
    "from sklearn.model_selection import train_test_split\n",
    "from sklearn.linear_model import LogisticRegression\n",
    "from sklearn.metrics import accuracy_score\n",
    "from sklearn.metrics import confusion_matrix\n",
    "import seaborn as sns\n",
    "import matplotlib.pyplot as plt\n",
    "from sklearn import svm\n",
    "from sklearn.svm import SVC\n",
    "from sklearn.pipeline import Pipeline\n",
    "from sklearn.metrics import confusion_matrix\n",
    "from tqdm import tqdm\n",
    "from sklearn.neural_network import MLPClassifier"
   ]
  },
  {
   "cell_type": "code",
   "execution_count": 2,
   "id": "afb3a883",
   "metadata": {},
   "outputs": [],
   "source": [
    "df_install_pay = pd.read_csv(\"installments_payments.csv\")"
   ]
  },
  {
   "cell_type": "code",
   "execution_count": 3,
   "id": "64b1c3f0",
   "metadata": {},
   "outputs": [],
   "source": [
    "df_filter_install = df_install_pay[df_install_pay['AMT_INSTALMENT'] != df_install_pay['AMT_PAYMENT']]\n",
    "df_filter_install = df_filter_install[df_filter_install['DAYS_INSTALMENT'] <= df_filter_install['DAYS_ENTRY_PAYMENT']]"
   ]
  },
  {
   "cell_type": "code",
   "execution_count": 4,
   "id": "a97af4e2",
   "metadata": {},
   "outputs": [],
   "source": [
    "df_filter_install['Filter'] = 'Tolak'"
   ]
  },
  {
   "cell_type": "code",
   "execution_count": 5,
   "id": "2982323e",
   "metadata": {},
   "outputs": [],
   "source": [
    "df_filter_install_tolak = df_filter_install[['SK_ID_CURR','Filter']]\n",
    "df_filter_install_tolak = df_filter_install_tolak.drop_duplicates(subset='SK_ID_CURR', keep='first')"
   ]
  },
  {
   "cell_type": "code",
   "execution_count": 6,
   "id": "6c1fc78f",
   "metadata": {},
   "outputs": [
    {
     "name": "stdout",
     "output_type": "stream",
     "text": [
      "Tidak terdapat ID yang duplikat.\n"
     ]
    }
   ],
   "source": [
    "# Periksa apakah terdapat ID yang duplikat\n",
    "terdapat_duplikat = df_filter_install_tolak['SK_ID_CURR'].duplicated().any()\n",
    "\n",
    "# Tampilkan hasil\n",
    "if terdapat_duplikat:\n",
    "    print(\"Terdapat ID yang duplikat.\")\n",
    "else:\n",
    "    print(\"Tidak terdapat ID yang duplikat.\")"
   ]
  },
  {
   "cell_type": "markdown",
   "id": "a45770b3",
   "metadata": {},
   "source": [
    "Pengelolaan data bureau "
   ]
  },
  {
   "cell_type": "code",
   "execution_count": 7,
   "id": "d0f17b76",
   "metadata": {},
   "outputs": [],
   "source": [
    "df_bureau = pd.read_csv(\"bureau.csv\")"
   ]
  },
  {
   "cell_type": "code",
   "execution_count": 8,
   "id": "15e2fd49",
   "metadata": {},
   "outputs": [],
   "source": [
    "df_bureau_filter = df_bureau[df_bureau['CREDIT_ACTIVE'] != 'Closed']\n",
    "df_bureau_filter = df_bureau_filter[df_bureau_filter['CREDIT_DAY_OVERDUE'] >= 7]"
   ]
  },
  {
   "cell_type": "code",
   "execution_count": 9,
   "id": "7a23ca7e",
   "metadata": {},
   "outputs": [],
   "source": [
    "df_bureau_filter['Filter'] = 'Tolak'\n",
    "df_bureau_filter = df_bureau_filter[['SK_ID_CURR','Filter']]\n",
    "df_bureau_filter = df_bureau_filter.drop_duplicates(subset='SK_ID_CURR', keep='first')"
   ]
  },
  {
   "cell_type": "code",
   "execution_count": 10,
   "id": "a337012f",
   "metadata": {},
   "outputs": [
    {
     "name": "stdout",
     "output_type": "stream",
     "text": [
      "<class 'pandas.core.frame.DataFrame'>\n",
      "Int64Index: 3611 entries, 365 to 1713547\n",
      "Data columns (total 2 columns):\n",
      " #   Column      Non-Null Count  Dtype \n",
      "---  ------      --------------  ----- \n",
      " 0   SK_ID_CURR  3611 non-null   int64 \n",
      " 1   Filter      3611 non-null   object\n",
      "dtypes: int64(1), object(1)\n",
      "memory usage: 84.6+ KB\n",
      "None\n"
     ]
    }
   ],
   "source": [
    "print(df_bureau_filter.info())"
   ]
  },
  {
   "cell_type": "code",
   "execution_count": 11,
   "id": "788ced74",
   "metadata": {},
   "outputs": [],
   "source": [
    "df_train = pd.read_csv(\"application_train.csv\")"
   ]
  },
  {
   "cell_type": "code",
   "execution_count": 12,
   "id": "aa8e33ef",
   "metadata": {},
   "outputs": [
    {
     "name": "stdout",
     "output_type": "stream",
     "text": [
      "<class 'pandas.core.frame.DataFrame'>\n",
      "Int64Index: 307511 entries, 0 to 307510\n",
      "Columns: 124 entries, SK_ID_CURR to Filter_y\n",
      "dtypes: float64(65), int64(41), object(18)\n",
      "memory usage: 293.3+ MB\n",
      "None\n"
     ]
    }
   ],
   "source": [
    "#Merge nilai installment\n",
    "df_train_new = pd.merge(df_train, df_filter_install_tolak, on='SK_ID_CURR', how='left')\n",
    "#Merge nilai bureau\n",
    "df_train_new_1 = pd.merge(df_train_new, df_bureau_filter, on='SK_ID_CURR', how='left')\n",
    "pd.set_option('display.max_column', None)\n",
    "print(df_train_new_1.info())"
   ]
  },
  {
   "cell_type": "code",
   "execution_count": 13,
   "id": "5cb6e895",
   "metadata": {},
   "outputs": [
    {
     "name": "stdout",
     "output_type": "stream",
     "text": [
      "<class 'pandas.core.frame.DataFrame'>\n",
      "Int64Index: 307511 entries, 0 to 307510\n",
      "Columns: 123 entries, SK_ID_CURR to Filter\n",
      "dtypes: float64(65), int64(41), object(17)\n",
      "memory usage: 290.9+ MB\n",
      "None\n"
     ]
    }
   ],
   "source": [
    "# Gabungkan nilai prediksi dari tabel 2 ke tabel 1 jika ID cocok\n",
    "df_train_new_1['Filter'] = df_train_new_1['Filter_y'].combine_first(df_train_new_1['Filter_x'])\n",
    "\n",
    "# Hapus kolom prediksi dari tabel 2\n",
    "df_train_new_1 = df_train_new_1.drop('Filter_y', axis=1)\n",
    "df_train_new_1 = df_train_new_1.drop('Filter_x', axis=1)\n",
    "\n",
    "# Tampilkan DataFrame hasil\n",
    "print(df_train_new_1.info())"
   ]
  },
  {
   "cell_type": "code",
   "execution_count": 14,
   "id": "554c3518",
   "metadata": {},
   "outputs": [
    {
     "name": "stdout",
     "output_type": "stream",
     "text": [
      "Jumlah nilai null dalam setiap kolom:\n",
      "SK_ID_CURR                           0\n",
      "TARGET                               0\n",
      "NAME_CONTRACT_TYPE                   0\n",
      "CODE_GENDER                          0\n",
      "FLAG_OWN_CAR                         0\n",
      "FLAG_OWN_REALTY                      0\n",
      "CNT_CHILDREN                         0\n",
      "AMT_INCOME_TOTAL                     0\n",
      "AMT_CREDIT                           0\n",
      "AMT_ANNUITY                         12\n",
      "AMT_GOODS_PRICE                    278\n",
      "NAME_TYPE_SUITE                   1292\n",
      "NAME_INCOME_TYPE                     0\n",
      "NAME_EDUCATION_TYPE                  0\n",
      "NAME_FAMILY_STATUS                   0\n",
      "NAME_HOUSING_TYPE                    0\n",
      "REGION_POPULATION_RELATIVE           0\n",
      "DAYS_BIRTH                           0\n",
      "DAYS_EMPLOYED                        0\n",
      "DAYS_REGISTRATION                    0\n",
      "DAYS_ID_PUBLISH                      0\n",
      "OWN_CAR_AGE                     202929\n",
      "FLAG_MOBIL                           0\n",
      "FLAG_EMP_PHONE                       0\n",
      "FLAG_WORK_PHONE                      0\n",
      "FLAG_CONT_MOBILE                     0\n",
      "FLAG_PHONE                           0\n",
      "FLAG_EMAIL                           0\n",
      "OCCUPATION_TYPE                  96391\n",
      "CNT_FAM_MEMBERS                      2\n",
      "REGION_RATING_CLIENT                 0\n",
      "REGION_RATING_CLIENT_W_CITY          0\n",
      "WEEKDAY_APPR_PROCESS_START           0\n",
      "HOUR_APPR_PROCESS_START              0\n",
      "REG_REGION_NOT_LIVE_REGION           0\n",
      "REG_REGION_NOT_WORK_REGION           0\n",
      "LIVE_REGION_NOT_WORK_REGION          0\n",
      "REG_CITY_NOT_LIVE_CITY               0\n",
      "REG_CITY_NOT_WORK_CITY               0\n",
      "LIVE_CITY_NOT_WORK_CITY              0\n",
      "ORGANIZATION_TYPE                    0\n",
      "EXT_SOURCE_1                    173378\n",
      "EXT_SOURCE_2                       660\n",
      "EXT_SOURCE_3                     60965\n",
      "APARTMENTS_AVG                  156061\n",
      "BASEMENTAREA_AVG                179943\n",
      "YEARS_BEGINEXPLUATATION_AVG     150007\n",
      "YEARS_BUILD_AVG                 204488\n",
      "COMMONAREA_AVG                  214865\n",
      "ELEVATORS_AVG                   163891\n",
      "ENTRANCES_AVG                   154828\n",
      "FLOORSMAX_AVG                   153020\n",
      "FLOORSMIN_AVG                   208642\n",
      "LANDAREA_AVG                    182590\n",
      "LIVINGAPARTMENTS_AVG            210199\n",
      "LIVINGAREA_AVG                  154350\n",
      "NONLIVINGAPARTMENTS_AVG         213514\n",
      "NONLIVINGAREA_AVG               169682\n",
      "APARTMENTS_MODE                 156061\n",
      "BASEMENTAREA_MODE               179943\n",
      "YEARS_BEGINEXPLUATATION_MODE    150007\n",
      "YEARS_BUILD_MODE                204488\n",
      "COMMONAREA_MODE                 214865\n",
      "ELEVATORS_MODE                  163891\n",
      "ENTRANCES_MODE                  154828\n",
      "FLOORSMAX_MODE                  153020\n",
      "FLOORSMIN_MODE                  208642\n",
      "LANDAREA_MODE                   182590\n",
      "LIVINGAPARTMENTS_MODE           210199\n",
      "LIVINGAREA_MODE                 154350\n",
      "NONLIVINGAPARTMENTS_MODE        213514\n",
      "NONLIVINGAREA_MODE              169682\n",
      "APARTMENTS_MEDI                 156061\n",
      "BASEMENTAREA_MEDI               179943\n",
      "YEARS_BEGINEXPLUATATION_MEDI    150007\n",
      "YEARS_BUILD_MEDI                204488\n",
      "COMMONAREA_MEDI                 214865\n",
      "ELEVATORS_MEDI                  163891\n",
      "ENTRANCES_MEDI                  154828\n",
      "FLOORSMAX_MEDI                  153020\n",
      "FLOORSMIN_MEDI                  208642\n",
      "LANDAREA_MEDI                   182590\n",
      "LIVINGAPARTMENTS_MEDI           210199\n",
      "LIVINGAREA_MEDI                 154350\n",
      "NONLIVINGAPARTMENTS_MEDI        213514\n",
      "NONLIVINGAREA_MEDI              169682\n",
      "FONDKAPREMONT_MODE              210295\n",
      "HOUSETYPE_MODE                  154297\n",
      "TOTALAREA_MODE                  148431\n",
      "WALLSMATERIAL_MODE              156341\n",
      "EMERGENCYSTATE_MODE             145755\n",
      "OBS_30_CNT_SOCIAL_CIRCLE          1021\n",
      "DEF_30_CNT_SOCIAL_CIRCLE          1021\n",
      "OBS_60_CNT_SOCIAL_CIRCLE          1021\n",
      "DEF_60_CNT_SOCIAL_CIRCLE          1021\n",
      "DAYS_LAST_PHONE_CHANGE               1\n",
      "FLAG_DOCUMENT_2                      0\n",
      "FLAG_DOCUMENT_3                      0\n",
      "FLAG_DOCUMENT_4                      0\n",
      "FLAG_DOCUMENT_5                      0\n",
      "FLAG_DOCUMENT_6                      0\n",
      "FLAG_DOCUMENT_7                      0\n",
      "FLAG_DOCUMENT_8                      0\n",
      "FLAG_DOCUMENT_9                      0\n",
      "FLAG_DOCUMENT_10                     0\n",
      "FLAG_DOCUMENT_11                     0\n",
      "FLAG_DOCUMENT_12                     0\n",
      "FLAG_DOCUMENT_13                     0\n",
      "FLAG_DOCUMENT_14                     0\n",
      "FLAG_DOCUMENT_15                     0\n",
      "FLAG_DOCUMENT_16                     0\n",
      "FLAG_DOCUMENT_17                     0\n",
      "FLAG_DOCUMENT_18                     0\n",
      "FLAG_DOCUMENT_19                     0\n",
      "FLAG_DOCUMENT_20                     0\n",
      "FLAG_DOCUMENT_21                     0\n",
      "AMT_REQ_CREDIT_BUREAU_HOUR       41519\n",
      "AMT_REQ_CREDIT_BUREAU_DAY        41519\n",
      "AMT_REQ_CREDIT_BUREAU_WEEK       41519\n",
      "AMT_REQ_CREDIT_BUREAU_MON        41519\n",
      "AMT_REQ_CREDIT_BUREAU_QRT        41519\n",
      "AMT_REQ_CREDIT_BUREAU_YEAR       41519\n",
      "Filter                          185661\n",
      "dtype: int64\n"
     ]
    }
   ],
   "source": [
    "null_counts = df_train_new_1.isnull().sum()\n",
    "pd.set_option('display.max_rows', None)\n",
    "print(\"Jumlah nilai null dalam setiap kolom:\")\n",
    "print(null_counts)"
   ]
  },
  {
   "cell_type": "markdown",
   "id": "38c56846",
   "metadata": {},
   "source": [
    "Pengelolaan data train"
   ]
  },
  {
   "cell_type": "code",
   "execution_count": null,
   "id": "a5b947c6",
   "metadata": {},
   "outputs": [],
   "source": []
  },
  {
   "cell_type": "code",
   "execution_count": 15,
   "id": "28477ee4",
   "metadata": {},
   "outputs": [],
   "source": [
    "# Membuat dictionary pemetaan nilai label ke integer\n",
    "label_contract_type = {'Consumer loans': 1, 'Cash loans': 2, 'Revolving loans': 3, 'XNA':4}\n",
    "#label_day = {'MONDAY': 1, 'TUESDAY': 2, 'WEDNESDAY': 3, 'THURSDAY':4, 'FRIDAY':5, 'SATURDAY':6, 'SUNDAY':7}\n",
    "label_Y_N = {'Y':1, 'N':0}\n",
    "label_yield_group = {'low_normal': 1, 'middle': 2, 'high': 3, 'XNA':4, 'low_action':5}\n",
    "label_status = {'Approved': 1, 'Canceled': 2, 'Refused': 3, 'Unused offer':4}\n",
    "label_pay_type = {'Cash through the bank': 1, 'Non-cash from your account': 2, 'Cashless from the account of the employer': 3, 'XNA':4}\n",
    "label_client_type = {'Repeater': 1, 'New': 2, 'Refreshed': 3, 'XNA':4}\n",
    "label_porto = {'Cash':1, 'POS':2, 'Cards':3, 'Cards':4, 'Cars':5}\n",
    "label_type_suite = {'Unaccompanied': 1 ,'Family': 2, 'Spouse, partner': 3, 'Children':4,'Other_A':5 ,'Other_B': 6 \n",
    "                    ,'Group of people': 7}\n",
    "label_prod_combo = {'Cash': 1 ,'POS household with interest': 2, 'POS mobile with interest': 3, 'Cash X-Sell: middle':4\n",
    "                    ,'Cash X-Sell: low':5 ,'Card Street': 6 ,'POS industry with interest': 7, 'POS household without interest': 8\n",
    "                    ,'Card X-Sell': 9,'Cash Street: high': 10, 'Cash X-Sell: high':11, 'Cash Street: middle':12 \n",
    "                    ,'Cash Street: low': 13,'POS mobile without interest': 14, 'POS other with interest': 15\n",
    "                    , 'POS industry without interest': 16, 'POS others without interest':17}\n",
    "label_purpose = {'XAP': 1 ,'XNA': 2, 'Repairs': 3, 'Repairs':4,'Other':5 ,'Urgent needs': 6 ,'Buying a used car': 7\n",
    "                 ,'Building a house or an annex': 8,'Medicine': 9,'Payments on other loans': 10, 'Education':11\n",
    "                 ,'Journey':12,'Purchase of electronic equipment': 13,'Buying a new car': 14, 'Wedding / gift / holiday': 15\n",
    "                 ,'Buying a home': 16, 'Car repairs':17, 'Furniture':18, 'Buying a holiday home / land':19\n",
    "                 ,'Business development':20, 'Gasification / water supply':21, 'Buying a garage':22, 'Hobby':23, 'Money for a third person':24, 'Refusal to name the goal':25}\n",
    "label_type_suite = {'Unaccompanied': 1 ,'Family': 2, 'Spouse, partner': 3, 'Children':4,'Other_A':5 ,'Other_B': 6 \n",
    "                    ,'Group of people': 7}\n",
    "label_gender = {'M':1, 'F':2, 'XNA':3}\n",
    "label_income_type = {'Working': 1 ,'State servant': 2, 'Commercial associate': 3, 'Pensioner':4, 'Unemployed':5 ,'Student': 6 \n",
    "                    ,'Businessman': 7, 'Maternity leave':8}\n",
    "label_edu_type = {'Secondary / secondary special': 1 ,'Higher education': 2, 'Incomplete higher': 3, 'Lower secondary':4\n",
    "                  , 'Academic degree':5}\n",
    "label_fam_status = {'Single / not married': 1 ,'Married': 2, 'Civil marriage': 3, 'Civil marriage':4 ,'Separated':5, 'Unknown':6}\n",
    "label_house_type = {'House / apartment': 1 ,'Rented apartment': 2, 'With parents': 3, 'Municipal apartment':4 ,'Office apartment':5, 'Co-op apartment':6}"
   ]
  },
  {
   "cell_type": "code",
   "execution_count": 16,
   "id": "18bad9ed",
   "metadata": {},
   "outputs": [],
   "source": [
    "# Mengganti nilai label string ke int pada kolom\n",
    "df_train_new_1['NAME_CONTRACT_TYPE'] = df_train_new_1['NAME_CONTRACT_TYPE'].map(label_contract_type)\n",
    "df_train_new_1['CODE_GENDER'] = df_train_new_1['CODE_GENDER'].map(label_gender)\n",
    "df_train_new_1['FLAG_OWN_CAR'] = df_train_new_1['FLAG_OWN_CAR'].map(label_Y_N)\n",
    "df_train_new_1['FLAG_OWN_REALTY'] = df_train_new_1['FLAG_OWN_REALTY'].map(label_Y_N)\n",
    "df_train_new_1['NAME_TYPE_SUITE'] = df_train_new_1['NAME_TYPE_SUITE'].map(label_type_suite)\n",
    "df_train_new_1['NAME_INCOME_TYPE'] = df_train_new_1['NAME_INCOME_TYPE'].map(label_income_type)\n",
    "df_train_new_1['NAME_EDUCATION_TYPE'] = df_train_new_1['NAME_EDUCATION_TYPE'].map(label_edu_type)\n",
    "df_train_new_1['NAME_FAMILY_STATUS'] = df_train_new_1['NAME_FAMILY_STATUS'].map(label_fam_status)\n",
    "df_train_new_1['NAME_HOUSING_TYPE'] = df_train_new_1['NAME_HOUSING_TYPE'].map(label_house_type)"
   ]
  },
  {
   "cell_type": "code",
   "execution_count": 17,
   "id": "2c49d10a",
   "metadata": {},
   "outputs": [],
   "source": [
    "# mengisi nilai null tabel df test\n",
    "df_train_new_1['AMT_ANNUITY'].fillna(df_train_new_1['AMT_ANNUITY'].mean(), inplace=True)\n",
    "df_train_new_1['AMT_GOODS_PRICE'].fillna(df_train_new_1['AMT_GOODS_PRICE'].mean(), inplace=True)\n",
    "df_train_new_1['NAME_TYPE_SUITE'].fillna(0, inplace=True)\n",
    "df_train_new_1['CNT_FAM_MEMBERS'].fillna(0, inplace=True)\n",
    "df_train_new_1['EXT_SOURCE_1'].fillna(0, inplace=True)\n",
    "df_train_new_1['EXT_SOURCE_2'].fillna(0, inplace=True)\n",
    "df_train_new_1['EXT_SOURCE_3'].fillna(0, inplace=True)\n",
    "df_train_new_1['OBS_30_CNT_SOCIAL_CIRCLE'].fillna(df_train_new_1['OBS_30_CNT_SOCIAL_CIRCLE'].mean(), inplace=True)\n",
    "df_train_new_1['DEF_30_CNT_SOCIAL_CIRCLE'].fillna(df_train_new_1['DEF_30_CNT_SOCIAL_CIRCLE'].mean(), inplace=True)\n",
    "df_train_new_1['OBS_60_CNT_SOCIAL_CIRCLE'].fillna(df_train_new_1['OBS_60_CNT_SOCIAL_CIRCLE'].mean(), inplace=True)\n",
    "df_train_new_1['DEF_60_CNT_SOCIAL_CIRCLE'].fillna(df_train_new_1['DEF_60_CNT_SOCIAL_CIRCLE'].mean(), inplace=True)\n",
    "df_train_new_1['DAYS_LAST_PHONE_CHANGE'].fillna(df_train_new_1['DAYS_LAST_PHONE_CHANGE'].mean(), inplace=True)\n",
    "df_train_new_1['AMT_REQ_CREDIT_BUREAU_HOUR'].fillna(df_train_new_1['AMT_REQ_CREDIT_BUREAU_HOUR'].mean(), inplace=True)\n",
    "df_train_new_1['AMT_REQ_CREDIT_BUREAU_DAY'].fillna(df_train_new_1['AMT_REQ_CREDIT_BUREAU_DAY'].mean(), inplace=True)\n",
    "df_train_new_1['AMT_REQ_CREDIT_BUREAU_WEEK'].fillna(df_train_new_1['AMT_REQ_CREDIT_BUREAU_WEEK'].mean(), inplace=True)\n",
    "df_train_new_1['AMT_REQ_CREDIT_BUREAU_MON'].fillna(df_train_new_1['AMT_REQ_CREDIT_BUREAU_MON'].mean(), inplace=True)\n",
    "df_train_new_1['AMT_REQ_CREDIT_BUREAU_QRT'].fillna(df_train_new_1['AMT_REQ_CREDIT_BUREAU_QRT'].mean(), inplace=True)\n",
    "df_train_new_1['AMT_REQ_CREDIT_BUREAU_YEAR'].fillna(df_train_new_1['AMT_REQ_CREDIT_BUREAU_YEAR'].mean(), inplace=True)\n",
    "df_train_new_1['NAME_FAMILY_STATUS'].fillna(0, inplace=True)"
   ]
  },
  {
   "cell_type": "code",
   "execution_count": 18,
   "id": "d6cc52dd",
   "metadata": {},
   "outputs": [],
   "source": [
    "# mengubah nilai menjadi positif\n",
    "df_train_new_1['DAYS_BIRTH'] = df_train_new_1['DAYS_BIRTH'].abs()\n",
    "df_train_new_1['DAYS_EMPLOYED'] = df_train_new_1['DAYS_EMPLOYED'].abs()\n",
    "df_train_new_1['DAYS_REGISTRATION'] = df_train_new_1['DAYS_REGISTRATION'].abs()\n",
    "df_train_new_1['DAYS_ID_PUBLISH'] = df_train_new_1['DAYS_ID_PUBLISH'].abs()\n",
    "df_train_new_1['DAYS_LAST_PHONE_CHANGE'] = df_train_new_1['DAYS_LAST_PHONE_CHANGE'].abs()"
   ]
  },
  {
   "cell_type": "code",
   "execution_count": 19,
   "id": "ad44acf1",
   "metadata": {},
   "outputs": [],
   "source": [
    "# memfilter data\n",
    "df_train_latest = df_train_new_1.drop(['OWN_CAR_AGE','OCCUPATION_TYPE','WEEKDAY_APPR_PROCESS_START','HOUR_APPR_PROCESS_START'\n",
    "                            ,'ORGANIZATION_TYPE','APARTMENTS_AVG','APARTMENTS_AVG','BASEMENTAREA_AVG','YEARS_BEGINEXPLUATATION_AVG'\n",
    "                            ,'YEARS_BUILD_AVG','COMMONAREA_AVG','ELEVATORS_AVG','ENTRANCES_AVG','FLOORSMAX_AVG','FLOORSMIN_AVG'\n",
    "                            ,'LANDAREA_AVG','LIVINGAPARTMENTS_AVG','LIVINGAREA_AVG','NONLIVINGAPARTMENTS_AVG'\n",
    "                            ,'NONLIVINGAREA_AVG','APARTMENTS_MODE','BASEMENTAREA_MODE','YEARS_BEGINEXPLUATATION_MODE'\n",
    "                            ,'YEARS_BUILD_MODE','COMMONAREA_MODE','ELEVATORS_MODE','ENTRANCES_MODE','FLOORSMAX_MODE'\n",
    "                            ,'FLOORSMIN_MODE','LANDAREA_MODE','LIVINGAPARTMENTS_MODE','LIVINGAREA_MODE'\n",
    "                            ,'NONLIVINGAPARTMENTS_MODE','NONLIVINGAREA_MODE','APARTMENTS_MEDI','BASEMENTAREA_MEDI'\n",
    "                            ,'YEARS_BEGINEXPLUATATION_MEDI','YEARS_BUILD_MEDI','COMMONAREA_MEDI','ELEVATORS_MEDI'\n",
    "                            ,'ENTRANCES_MEDI','FLOORSMAX_MEDI','FLOORSMIN_MEDI','LANDAREA_MEDI','LIVINGAPARTMENTS_MEDI'\n",
    "                            ,'LIVINGAREA_MEDI','NONLIVINGAPARTMENTS_MEDI','NONLIVINGAREA_MEDI','FONDKAPREMONT_MODE'\n",
    "                            ,'HOUSETYPE_MODE','TOTALAREA_MODE','WALLSMATERIAL_MODE','EMERGENCYSTATE_MODE','TARGET'],axis=1)"
   ]
  },
  {
   "cell_type": "code",
   "execution_count": 20,
   "id": "9868e235",
   "metadata": {},
   "outputs": [],
   "source": [
    "df_train_latest['Filter'].fillna('Terima', inplace=True)"
   ]
  },
  {
   "cell_type": "code",
   "execution_count": 21,
   "id": "44c30b65",
   "metadata": {},
   "outputs": [
    {
     "name": "stdout",
     "output_type": "stream",
     "text": [
      "Terima    185661\n",
      "Tolak     121850\n",
      "Name: Filter, dtype: int64\n"
     ]
    }
   ],
   "source": [
    "print(df_train_latest['Filter'].value_counts())"
   ]
  },
  {
   "cell_type": "markdown",
   "id": "fdb00540",
   "metadata": {},
   "source": [
    "Proses Data pada Test"
   ]
  },
  {
   "cell_type": "code",
   "execution_count": 22,
   "id": "946908ab",
   "metadata": {},
   "outputs": [],
   "source": [
    "df_test = pd.read_csv(\"application_test.csv\")"
   ]
  },
  {
   "cell_type": "code",
   "execution_count": 23,
   "id": "f57a0109",
   "metadata": {},
   "outputs": [],
   "source": [
    "# Mengganti nilai label string ke int pada kolom\n",
    "df_test['NAME_CONTRACT_TYPE'] = df_test['NAME_CONTRACT_TYPE'].map(label_contract_type)\n",
    "df_test['CODE_GENDER'] = df_test['CODE_GENDER'].map(label_gender)\n",
    "df_test['FLAG_OWN_CAR'] = df_test['FLAG_OWN_CAR'].map(label_Y_N)\n",
    "df_test['FLAG_OWN_REALTY'] = df_test['FLAG_OWN_REALTY'].map(label_Y_N)\n",
    "df_test['NAME_TYPE_SUITE'] = df_test['NAME_TYPE_SUITE'].map(label_type_suite)\n",
    "df_test['NAME_INCOME_TYPE'] = df_test['NAME_INCOME_TYPE'].map(label_income_type)\n",
    "df_test['NAME_EDUCATION_TYPE'] = df_test['NAME_EDUCATION_TYPE'].map(label_edu_type)\n",
    "df_test['NAME_FAMILY_STATUS'] = df_test['NAME_FAMILY_STATUS'].map(label_fam_status)\n",
    "df_test['NAME_HOUSING_TYPE'] = df_test['NAME_HOUSING_TYPE'].map(label_house_type)"
   ]
  },
  {
   "cell_type": "code",
   "execution_count": 24,
   "id": "76df0d8f",
   "metadata": {},
   "outputs": [],
   "source": [
    "# mengisi nilai null tabel df test\n",
    "df_test['AMT_ANNUITY'].fillna(df_test['AMT_ANNUITY'].mean(), inplace=True)\n",
    "df_test['AMT_GOODS_PRICE'].fillna(df_test['AMT_GOODS_PRICE'].mean(), inplace=True)\n",
    "df_test['NAME_TYPE_SUITE'].fillna(0, inplace=True)\n",
    "df_test['CNT_FAM_MEMBERS'].fillna(0, inplace=True)\n",
    "df_test['EXT_SOURCE_1'].fillna(0, inplace=True)\n",
    "df_test['EXT_SOURCE_2'].fillna(0, inplace=True)\n",
    "df_test['EXT_SOURCE_3'].fillna(0, inplace=True)\n",
    "df_test['OBS_30_CNT_SOCIAL_CIRCLE'].fillna(df_test['OBS_30_CNT_SOCIAL_CIRCLE'].mean(), inplace=True)\n",
    "df_test['DEF_30_CNT_SOCIAL_CIRCLE'].fillna(df_test['DEF_30_CNT_SOCIAL_CIRCLE'].mean(), inplace=True)\n",
    "df_test['OBS_60_CNT_SOCIAL_CIRCLE'].fillna(df_test['OBS_60_CNT_SOCIAL_CIRCLE'].mean(), inplace=True)\n",
    "df_test['DEF_60_CNT_SOCIAL_CIRCLE'].fillna(df_test['DEF_60_CNT_SOCIAL_CIRCLE'].mean(), inplace=True)\n",
    "df_test['DAYS_LAST_PHONE_CHANGE'].fillna(df_test['DAYS_LAST_PHONE_CHANGE'].mean(), inplace=True)\n",
    "df_test['AMT_REQ_CREDIT_BUREAU_HOUR'].fillna(df_test['AMT_REQ_CREDIT_BUREAU_HOUR'].mean(), inplace=True)\n",
    "df_test['AMT_REQ_CREDIT_BUREAU_DAY'].fillna(df_test['AMT_REQ_CREDIT_BUREAU_DAY'].mean(), inplace=True)\n",
    "df_test['AMT_REQ_CREDIT_BUREAU_WEEK'].fillna(df_test['AMT_REQ_CREDIT_BUREAU_WEEK'].mean(), inplace=True)\n",
    "df_test['AMT_REQ_CREDIT_BUREAU_MON'].fillna(df_test['AMT_REQ_CREDIT_BUREAU_MON'].mean(), inplace=True)\n",
    "df_test['AMT_REQ_CREDIT_BUREAU_QRT'].fillna(df_test['AMT_REQ_CREDIT_BUREAU_QRT'].mean(), inplace=True)\n",
    "df_test['AMT_REQ_CREDIT_BUREAU_YEAR'].fillna(df_test['AMT_REQ_CREDIT_BUREAU_YEAR'].mean(), inplace=True)\n",
    "df_test['NAME_FAMILY_STATUS'].fillna(0, inplace=True)"
   ]
  },
  {
   "cell_type": "code",
   "execution_count": 25,
   "id": "e5920781",
   "metadata": {},
   "outputs": [],
   "source": [
    "# mengubah nilai menjadi positif\n",
    "df_test['DAYS_BIRTH'] = df_test['DAYS_BIRTH'].abs()\n",
    "df_test['DAYS_EMPLOYED'] = df_test['DAYS_EMPLOYED'].abs()\n",
    "df_test['DAYS_REGISTRATION'] = df_test['DAYS_REGISTRATION'].abs()\n",
    "df_test['DAYS_ID_PUBLISH'] = df_test['DAYS_ID_PUBLISH'].abs()\n",
    "df_test['DAYS_LAST_PHONE_CHANGE'] = df_test['DAYS_LAST_PHONE_CHANGE'].abs()\n",
    "df_test['REGION_RATING_CLIENT_W_CITY'] = df_test['REGION_RATING_CLIENT_W_CITY'].abs()"
   ]
  },
  {
   "cell_type": "code",
   "execution_count": 26,
   "id": "e667c07a",
   "metadata": {},
   "outputs": [],
   "source": [
    "# memfilter data\n",
    "df_test_1 = df_test.drop(['OWN_CAR_AGE','OCCUPATION_TYPE','WEEKDAY_APPR_PROCESS_START','HOUR_APPR_PROCESS_START'\n",
    "                            ,'ORGANIZATION_TYPE','APARTMENTS_AVG','APARTMENTS_AVG','BASEMENTAREA_AVG','YEARS_BEGINEXPLUATATION_AVG'\n",
    "                            ,'YEARS_BUILD_AVG','COMMONAREA_AVG','ELEVATORS_AVG','ENTRANCES_AVG','FLOORSMAX_AVG','FLOORSMIN_AVG'\n",
    "                            ,'LANDAREA_AVG','LIVINGAPARTMENTS_AVG','LIVINGAREA_AVG','NONLIVINGAPARTMENTS_AVG'\n",
    "                            ,'NONLIVINGAREA_AVG','APARTMENTS_MODE','BASEMENTAREA_MODE','YEARS_BEGINEXPLUATATION_MODE'\n",
    "                            ,'YEARS_BUILD_MODE','COMMONAREA_MODE','ELEVATORS_MODE','ENTRANCES_MODE','FLOORSMAX_MODE'\n",
    "                            ,'FLOORSMIN_MODE','LANDAREA_MODE','LIVINGAPARTMENTS_MODE','LIVINGAREA_MODE'\n",
    "                            ,'NONLIVINGAPARTMENTS_MODE','NONLIVINGAREA_MODE','APARTMENTS_MEDI','BASEMENTAREA_MEDI'\n",
    "                            ,'YEARS_BEGINEXPLUATATION_MEDI','YEARS_BUILD_MEDI','COMMONAREA_MEDI','ELEVATORS_MEDI'\n",
    "                            ,'ENTRANCES_MEDI','FLOORSMAX_MEDI','FLOORSMIN_MEDI','LANDAREA_MEDI','LIVINGAPARTMENTS_MEDI'\n",
    "                            ,'LIVINGAREA_MEDI','NONLIVINGAPARTMENTS_MEDI','NONLIVINGAREA_MEDI','FONDKAPREMONT_MODE'\n",
    "                            ,'HOUSETYPE_MODE','TOTALAREA_MODE','WALLSMATERIAL_MODE','EMERGENCYSTATE_MODE'],axis=1)"
   ]
  },
  {
   "cell_type": "code",
   "execution_count": 27,
   "id": "d093329c",
   "metadata": {},
   "outputs": [],
   "source": [
    "#Merge installment to test\n",
    "df_test_new_1 = pd.merge(df_test_1, df_filter_install_tolak, on='SK_ID_CURR', how='left')\n",
    "#Merge bureau to test\n",
    "df_test_new_1 = pd.merge(df_test_new_1, df_bureau_filter, on='SK_ID_CURR', how='left')"
   ]
  },
  {
   "cell_type": "code",
   "execution_count": 28,
   "id": "e8446ddc",
   "metadata": {},
   "outputs": [],
   "source": [
    "# Gabungkan nilai prediksi dari tabel 2 ke tabel 1 jika ID cocok\n",
    "df_test_new_1['Filter'] = df_test_new_1['Filter_y'].combine_first(df_test_new_1['Filter_x'])\n",
    "\n",
    "# Hapus kolom prediksi dari tabel 2\n",
    "df_test_new_1 = df_test_new_1.drop('Filter_y', axis=1)\n",
    "df_test_new_1 = df_test_new_1.drop('Filter_x', axis=1)\n",
    "\n",
    "# Tampilkan DataFrame hasil\n",
    "#print(df_test_new_1.info())"
   ]
  },
  {
   "cell_type": "code",
   "execution_count": 29,
   "id": "c6f54539",
   "metadata": {},
   "outputs": [],
   "source": [
    "df_test_new_1['Filter'].fillna('Terima', inplace=True)"
   ]
  },
  {
   "cell_type": "code",
   "execution_count": 30,
   "id": "0d83351a",
   "metadata": {},
   "outputs": [],
   "source": [
    "#df_test_new_1.info()"
   ]
  },
  {
   "cell_type": "code",
   "execution_count": 31,
   "id": "acfe8f80",
   "metadata": {},
   "outputs": [],
   "source": [
    "#print(df_train_latest['CNT_CHILDREN'].value_counts())"
   ]
  },
  {
   "cell_type": "code",
   "execution_count": 32,
   "id": "b7dd649e",
   "metadata": {},
   "outputs": [],
   "source": [
    "#kolom_negatif = df_test_new_1.select_dtypes(include='number').columns[df_test_new_1.select_dtypes(include='number').lt(0).any()]\n",
    "#print(kolom_negatif)"
   ]
  },
  {
   "cell_type": "markdown",
   "id": "996f7097",
   "metadata": {},
   "source": [
    "Preprocessing Data"
   ]
  },
  {
   "cell_type": "code",
   "execution_count": 33,
   "id": "a08c08c6",
   "metadata": {},
   "outputs": [],
   "source": [
    "#data train setelah filter dan pengolaaan = df_train_latest()\n",
    "#data test setelah filter dan pengelolaan = df_test_new_1()\n",
    "\n",
    "df_train_LR = df_train_latest.copy()\n",
    "df_test_LR = df_test_new_1.copy()"
   ]
  },
  {
   "cell_type": "code",
   "execution_count": 34,
   "id": "1d1141bc",
   "metadata": {},
   "outputs": [],
   "source": [
    "# 2. Preprocessing Data\n",
    "X_train_LR = df_train_LR.drop('Filter', axis=1)  # Matriks fitur (atribut)\n",
    "y_train_LR = df_train_LR['Filter']"
   ]
  },
  {
   "cell_type": "code",
   "execution_count": 35,
   "id": "ee493b34",
   "metadata": {},
   "outputs": [],
   "source": [
    "X_test_LR = df_test_LR.drop('Filter', axis=1)  # Matriks fitur (atribut)\n",
    "y_test_LR = df_test_LR['Filter']"
   ]
  },
  {
   "cell_type": "code",
   "execution_count": 36,
   "id": "86e513a1",
   "metadata": {},
   "outputs": [],
   "source": [
    "# 3. Seleksi Fitur\n",
    "selector = SelectKBest(score_func=chi2, k=69)  # Contoh menggunakan metode chi-square, pilih 5 fitur terbaik\n",
    "X_train_selected = selector.fit_transform(X_train_LR, y_train_LR)\n",
    "X_test_selected = selector.fit_transform(X_test_LR, y_test_LR)"
   ]
  },
  {
   "cell_type": "code",
   "execution_count": 37,
   "id": "138c6cad",
   "metadata": {},
   "outputs": [
    {
     "data": {
      "text/plain": [
       "LogisticRegression()"
      ]
     },
     "execution_count": 37,
     "metadata": {},
     "output_type": "execute_result"
    }
   ],
   "source": [
    "# 4. Melatih Model Regresi Logistik\n",
    "model = LogisticRegression()\n",
    "model.fit(X_train_selected, y_train_LR)"
   ]
  },
  {
   "cell_type": "code",
   "execution_count": 38,
   "id": "b599b821",
   "metadata": {},
   "outputs": [
    {
     "name": "stdout",
     "output_type": "stream",
     "text": [
      "Akurasi Pelatihan: 59.90%\n",
      "Akurasi Test: 59.36%\n"
     ]
    }
   ],
   "source": [
    "#5. nilai prediksi test\n",
    "y_pred_LR = model.predict(X_test_selected)\n",
    "\n",
    "#6. Evaluasi Model\n",
    "train_accuracy = model.score(X_train_LR, y_train_LR)\n",
    "print(\"Akurasi Pelatihan: {:.2f}%\".format(train_accuracy * 100))\n",
    "y_test_LR = df_test_LR['Filter']\n",
    "accuracy = accuracy_score(y_test_LR, y_pred_LR)\n",
    "print(\"Akurasi Test: {:.2f}%\".format(accuracy * 100))"
   ]
  },
  {
   "cell_type": "code",
   "execution_count": 39,
   "id": "52a80c9a",
   "metadata": {},
   "outputs": [],
   "source": [
    "#7. nilai prediksi \n",
    "df_test_LR['Prediksi'] = y_pred_LR"
   ]
  },
  {
   "cell_type": "code",
   "execution_count": 40,
   "id": "1e2ea4a4",
   "metadata": {},
   "outputs": [
    {
     "name": "stdout",
     "output_type": "stream",
     "text": [
      "Terima    40893\n",
      "Tolak      7851\n",
      "Name: Prediksi, dtype: int64\n"
     ]
    }
   ],
   "source": [
    "df_result_LR = pd.DataFrame({'SK_ID_CURR': df_test['SK_ID_CURR'], 'Prediksi': y_pred_LR})\n",
    "print(df_result_LR['Prediksi'].value_counts())"
   ]
  },
  {
   "cell_type": "code",
   "execution_count": 41,
   "id": "79f9e104",
   "metadata": {},
   "outputs": [
    {
     "data": {
      "image/png": "[encoded data removed]",
      "text/plain": [
       "<Figure size 576x432 with 2 Axes>"
      ]
     },
     "metadata": {
      "needs_background": "light"
     },
     "output_type": "display_data"
    }
   ],
   "source": [
    "# Hitung confusion matrix\n",
    "cm = confusion_matrix(y_test_LR, y_pred_LR)\n",
    "\n",
    "# Visualisasikan confusion matrix\n",
    "plt.figure(figsize=(8, 6))\n",
    "sns.heatmap(cm, annot=True, fmt='d', cmap='Blues')\n",
    "plt.title('Confusion Matrix')\n",
    "plt.xlabel('Predicted Label')\n",
    "plt.ylabel('True Label')\n",
    "plt.show()"
   ]
  },
  {
   "cell_type": "markdown",
   "id": "668e9845",
   "metadata": {},
   "source": [
    "Model RF"
   ]
  },
  {
   "cell_type": "code",
   "execution_count": 42,
   "id": "df049bd5",
   "metadata": {},
   "outputs": [],
   "source": [
    "#data train setelah filter dan pengolaaan = df_train_latest\n",
    "#data test setelah filter dan pengelolaan = df_test_new_1\n",
    "\n",
    "df_train_RF = df_train_latest.copy()\n",
    "df_test_RF = df_test_new_1.copy()"
   ]
  },
  {
   "cell_type": "code",
   "execution_count": 43,
   "id": "1f5fdc4c",
   "metadata": {},
   "outputs": [],
   "source": [
    "# 2. Preprocessing Data\n",
    "X_train_RF = df_train_RF.drop('Filter', axis=1)  # Matriks fitur (atribut)\n",
    "y_train_RF = df_train_RF['Filter']"
   ]
  },
  {
   "cell_type": "code",
   "execution_count": 44,
   "id": "c34a7942",
   "metadata": {},
   "outputs": [],
   "source": [
    "X_test_RF = df_test_RF.drop('Filter', axis=1)  # Matriks fitur (atribut)\n",
    "y_test_RF = df_test_RF['Filter']"
   ]
  },
  {
   "cell_type": "code",
   "execution_count": 45,
   "id": "ac0dc054",
   "metadata": {},
   "outputs": [],
   "source": [
    "k = 10  # Jumlah fitur yang akan dipilih\n",
    "selector = SelectKBest(score_func=f_classif, k=k)"
   ]
  },
  {
   "cell_type": "code",
   "execution_count": 46,
   "id": "3f388552",
   "metadata": {},
   "outputs": [
    {
     "name": "stderr",
     "output_type": "stream",
     "text": [
      "100%|████████████████████████████████████████████████████████████████████████████████████| 1/1 [00:49<00:00, 49.94s/it]\n"
     ]
    }
   ],
   "source": [
    "# Skala fitur menggunakan StandardScaler\n",
    "scaler = StandardScaler()\n",
    "\n",
    "# Membangun pipeline dengan feature selection dan SVM\n",
    "rf_model = Pipeline([('selector', selector),\n",
    "                     ('scaler', scaler),\n",
    "                     ('random_forest', RandomForestClassifier())])\n",
    "# Melatih model menggunakan data train\n",
    "#svm_model.fit(X_train, y_train)\n",
    "\n",
    "# Melatih model dengan tqdm\n",
    "for _ in tqdm(range(1)):\n",
    "    rf_model.fit(X_train_RF, y_train_RF)"
   ]
  },
  {
   "cell_type": "code",
   "execution_count": 47,
   "id": "df04702c",
   "metadata": {},
   "outputs": [
    {
     "name": "stdout",
     "output_type": "stream",
     "text": [
      "Akurasi Pelatihan: 59.90%\n",
      "Akurasi Test: 57.30%\n"
     ]
    }
   ],
   "source": [
    "# Membuat prediksi pada data test\n",
    "y_pred_RF = rf_model.predict(X_test_RF)\n",
    "\n",
    "# Evaluasi model\n",
    "accuracy_RF = rf_model.score(X_test_RF, y_test_RF)\n",
    "#6. Evaluasi Model\n",
    "accuracy_RF_train = model.score(X_train_RF, y_train_RF)\n",
    "print(\"Akurasi Pelatihan: {:.2f}%\".format(accuracy_RF_train * 100))\n",
    "y_test_RF = df_test_RF['Filter']\n",
    "accuracy_RF = accuracy_score(y_test_RF, y_pred_RF)\n",
    "print(\"Akurasi Test: {:.2f}%\".format(accuracy_RF * 100))"
   ]
  },
  {
   "cell_type": "code",
   "execution_count": 48,
   "id": "bf8d15c9",
   "metadata": {},
   "outputs": [
    {
     "data": {
      "image/png": "[encoded data removed]",
      "text/plain": [
       "<Figure size 576x432 with 2 Axes>"
      ]
     },
     "metadata": {
      "needs_background": "light"
     },
     "output_type": "display_data"
    }
   ],
   "source": [
    "# Hitung confusion matrix\n",
    "cm = confusion_matrix(y_test_RF, y_pred_RF)\n",
    "\n",
    "# Visualisasikan confusion matrix\n",
    "plt.figure(figsize=(8, 6))\n",
    "sns.heatmap(cm, annot=True, fmt='d', cmap='Blues')\n",
    "plt.title('Confusion Matrix')\n",
    "plt.xlabel('Predicted Label')\n",
    "plt.ylabel('True Label')\n",
    "plt.show()"
   ]
  },
  {
   "cell_type": "markdown",
   "id": "c062079c",
   "metadata": {},
   "source": [
    "Model MLP"
   ]
  },
  {
   "cell_type": "code",
   "execution_count": 49,
   "id": "c859eae6",
   "metadata": {},
   "outputs": [],
   "source": [
    "#data train setelah filter dan pengolaaan = df_train_latest\n",
    "#data test setelah filter dan pengelolaan = df_test_new_1\n",
    "\n",
    "df_train_MLP = df_train_latest.copy()\n",
    "df_test_MLP = df_test_new_1.copy()"
   ]
  },
  {
   "cell_type": "code",
   "execution_count": 50,
   "id": "d8d2163a",
   "metadata": {},
   "outputs": [],
   "source": [
    "# 2. Preprocessing Data\n",
    "X_train_MLP = df_train_MLP.drop('Filter', axis=1)  # Matriks fitur (atribut)\n",
    "y_train_MLP = df_train_MLP['Filter']"
   ]
  },
  {
   "cell_type": "code",
   "execution_count": 51,
   "id": "a792b879",
   "metadata": {},
   "outputs": [],
   "source": [
    "X_test_MLP = df_test_MLP.drop('Filter', axis=1)  # Matriks fitur (atribut)\n",
    "y_test_MLP = df_test_MLP['Filter']"
   ]
  },
  {
   "cell_type": "code",
   "execution_count": 52,
   "id": "75358f7f",
   "metadata": {},
   "outputs": [
    {
     "name": "stdout",
     "output_type": "stream",
     "text": [
      "Akurasi Pelatihan: 62.54%\n",
      "Akurasi Pelatihan: 60.29%\n"
     ]
    }
   ],
   "source": [
    "# Pemilihan fitur dengan SelectKBest\n",
    "k = 7  # Jumlah fitur yang ingin dipilih\n",
    "selector_MLP = SelectKBest(f_classif, k=k)\n",
    "selector_MLP.fit(X_train_MLP, y_train_MLP)\n",
    "\n",
    "# Mengambil fitur terpilih dari data train dan test\n",
    "X_train_selected_MLP = selector_MLP.transform(X_train_MLP)\n",
    "X_test_selected_MLP = selector_MLP.transform(X_test_MLP)\n",
    "\n",
    "# Membuat model MLP\n",
    "model_MLP = MLPClassifier()\n",
    "\n",
    "# Melatih model dengan data train yang telah dipilih fiturnya\n",
    "model_MLP.fit(X_train_selected_MLP, y_train_MLP)\n",
    "\n",
    "# Memprediksi nilai target untuk data train dan test\n",
    "y_train_pred_MLP = model_MLP.predict(X_train_selected_MLP)\n",
    "y_test_pred_MLP = model_MLP.predict(X_test_selected_MLP)\n",
    "\n",
    "# Menghitung dan menampilkan akurasi pelatihan\n",
    "train_accuracy_MLP = accuracy_score(y_train_MLP, y_train_pred_MLP)\n",
    "print(\"Akurasi Pelatihan: {:.2f}%\".format(train_accuracy_MLP * 100))\n",
    "\n",
    "# Menghitung dan menampilkan akurasi pengujian\n",
    "test_accuracy_MLP = accuracy_score(y_test_MLP, y_test_pred_MLP)\n",
    "print(\"Akurasi Pelatihan: {:.2f}%\".format(test_accuracy_MLP * 100))\n"
   ]
  },
  {
   "cell_type": "code",
   "execution_count": 53,
   "id": "7d8c8729",
   "metadata": {},
   "outputs": [
    {
     "data": {
      "image/png": "[encoded data removed]",
      "text/plain": [
       "<Figure size 576x432 with 2 Axes>"
      ]
     },
     "metadata": {
      "needs_background": "light"
     },
     "output_type": "display_data"
    }
   ],
   "source": [
    "# Hitung confusion matrix\n",
    "cm = confusion_matrix(y_test_MLP, y_test_pred_MLP)\n",
    "\n",
    "# Visualisasikan confusion matrix\n",
    "plt.figure(figsize=(8, 6))\n",
    "sns.heatmap(cm, annot=True, fmt='d', cmap='Blues')\n",
    "plt.title('Confusion Matrix')\n",
    "plt.xlabel('Predicted Label')\n",
    "plt.ylabel('True Label')\n",
    "plt.show()"
   ]
  },
  {
   "cell_type": "code",
   "execution_count": null,
   "id": "c0b1c9e2",
   "metadata": {},
   "outputs": [],
   "source": []
  },
  {
   "cell_type": "code",
   "execution_count": 54,
   "id": "84294fce",
   "metadata": {},
   "outputs": [],
   "source": [
    "#X_train_RF.info()"
   ]
  },
  {
   "cell_type": "code",
   "execution_count": 55,
   "id": "1fabb279",
   "metadata": {},
   "outputs": [],
   "source": [
    "#df_test_new_1.info()"
   ]
  },
  {
   "cell_type": "code",
   "execution_count": null,
   "id": "ec90c49b",
   "metadata": {},
   "outputs": [],
   "source": []
  }
 ],
 "metadata": {
  "kernelspec": {
   "display_name": "Python 3",
   "language": "python",
   "name": "python3"
  },
  "language_info": {
   "codemirror_mode": {
    "name": "ipython",
    "version": 3
   },
   "file_extension": ".py",
   "mimetype": "text/x-python",
   "name": "python",
   "nbconvert_exporter": "python",
   "pygments_lexer": "ipython3",
   "version": "3.8.8"
  }
 },
 "nbformat": 4,
 "nbformat_minor": 5
}
